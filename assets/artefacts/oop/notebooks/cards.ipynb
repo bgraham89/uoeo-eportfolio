{
 "cells": [
  {
   "attachments": {},
   "cell_type": "markdown",
   "metadata": {},
   "source": [
    "# Cards"
   ]
  },
  {
   "attachments": {},
   "cell_type": "markdown",
   "metadata": {},
   "source": [
    "Run the following code to define the card class."
   ]
  },
  {
   "cell_type": "code",
   "execution_count": 1,
   "metadata": {},
   "outputs": [],
   "source": [
    "class Card(object):\n",
    "    def __init__(self, suit, value):\n",
    "        self.__SUITS = (\n",
    "            \"♠\",\"♡\",\"♢\",\"♣\"\n",
    "        )\n",
    "        self.__VALUES = (\n",
    "            \"2\",\"3\",\"4\",\"5\",\"6\",\"7\",\"8\",\n",
    "            \"9\",\"10\",\"J\",\"Q\",\"K\",\"A\"\n",
    "        )\n",
    "        self.suit = self.__SUITS[suit]\n",
    "        self.value = self.__VALUES[value]"
   ]
  },
  {
   "attachments": {},
   "cell_type": "markdown",
   "metadata": {},
   "source": [
    "Run the following code to define the deck class."
   ]
  },
  {
   "cell_type": "code",
   "execution_count": 2,
   "metadata": {},
   "outputs": [],
   "source": [
    "class Deck(list):\n",
    "    def __init__(self):\n",
    "        super.__init__(self)  \n",
    "        self.extend([Card(s, v) for s in range(4) for v in range(13)])"
   ]
  },
  {
   "attachments": {},
   "cell_type": "markdown",
   "metadata": {},
   "source": [
    "Run the following code to define the integer card class"
   ]
  },
  {
   "cell_type": "code",
   "execution_count": 3,
   "metadata": {},
   "outputs": [],
   "source": [
    "class IntegerCard(Card):\n",
    "    def __init__(self, suit, value):\n",
    "        super.__init__(self, suit, value)  \n",
    "        self.__PRIMES = (\n",
    "            2, 3, 5, 7, 11, 13, 17,\n",
    "            19, 23, 29, 31, 37, 41\n",
    "        )\n",
    "        self.__integer = (\n",
    "            self.__PRIMES[value]\n",
    "            + (value << 8)\n",
    "            + ((2 ** suit) << 12)\n",
    "            + ((2 ** value) << 16)\n",
    "        )\n",
    "    \n",
    "    def __int__(self):\n",
    "        return self.__integer"
   ]
  },
  {
   "attachments": {},
   "cell_type": "markdown",
   "metadata": {},
   "source": [
    "Run the following code to define the pokerhand class."
   ]
  },
  {
   "cell_type": "code",
   "execution_count": 4,
   "metadata": {},
   "outputs": [],
   "source": [
    "from functools import reduce\n",
    "from random import randint\n",
    "\n",
    "class PokerHand(list):\n",
    "    def __init__(self, amount_cards):\n",
    "        super.__init__(self, amount_cards)  \n",
    "        self._CreateCards(amount_cards)\n",
    "    \n",
    "    def _CreateCards(self, amount_cards=5):\n",
    "        while True:\n",
    "            cards = [IntegerCard(randint(0,3), randint(0,12)) for _ in range(amount_cards)]\n",
    "            if len(set(cards)) == amount_cards:\n",
    "                self.extend(cards)\n",
    "                break\n",
    "    \n",
    "    def HasFlush(self):\n",
    "        return reduce(lambda x, y: int(x) & int(y), self) & (15 << 12) > 0\n",
    "    \n",
    "    def HasPair(self):\n",
    "        return bin(reduce(lambda x, y: int(x) & int(y), self) & (4096 << 16)).count(\"1\") < len(self)"
   ]
  }
 ],
 "metadata": {
  "kernelspec": {
   "display_name": "Python 3",
   "language": "python",
   "name": "python3"
  },
  "language_info": {
   "codemirror_mode": {
    "name": "ipython",
    "version": 3
   },
   "file_extension": ".py",
   "mimetype": "text/x-python",
   "name": "python",
   "nbconvert_exporter": "python",
   "pygments_lexer": "ipython3",
   "version": "3.10.3"
  },
  "orig_nbformat": 4
 },
 "nbformat": 4,
 "nbformat_minor": 2
}
