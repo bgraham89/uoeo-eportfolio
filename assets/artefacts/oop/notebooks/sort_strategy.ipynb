{
 "cells": [
  {
   "attachments": {},
   "cell_type": "markdown",
   "metadata": {},
   "source": [
    "Run the following code to define a strategy class:"
   ]
  },
  {
   "cell_type": "code",
   "execution_count": 5,
   "metadata": {},
   "outputs": [],
   "source": [
    "class SortingStrategy(object):\n",
    "    '''\n",
    "    A class that encapsulates sorting algorithms.\n",
    "    \n",
    "    Instantiated objects are callable, and will choose the\n",
    "    most appropiate strategy to sort a given input. This\n",
    "    is a derivative of timsort, the Python sorting algorithm.\n",
    "    '''\n",
    "\n",
    "    def __init__(self):\n",
    "        self._strategies_by_size = {\n",
    "            1: self._return_input,\n",
    "            2: self._insertion_sort,\n",
    "            43: self._merge_sort\n",
    "        }\n",
    "\n",
    "    def __call__(self, unsorted_items):\n",
    "        strategy = self._select_strategy(unsorted_items)\n",
    "        return strategy(unsorted_items)\n",
    "    \n",
    "    def _select_strategy(self, unsorted_items):\n",
    "        '''Uses the size of the input to select an appropiate strategy.'''\n",
    "        for size, strategy in self._strategies_by_size.items():\n",
    "            if len(unsorted_items) >= size:\n",
    "                candidate_strategy = strategy\n",
    "            else:\n",
    "                break\n",
    "        return candidate_strategy\n",
    "    \n",
    "    def _return_input(self, unsorted_items):\n",
    "        '''Returns the input without sorting it.'''\n",
    "        return unsorted_items\n",
    "    \n",
    "    def _insertion_sort(self, unsorted_items):\n",
    "        '''Traverse items, bringing each to a sorted position through swaps.'''\n",
    "        length = len(unsorted_items)\n",
    "        for i in range(1,length):\n",
    "            for j in range(i, 0, -1):\n",
    "                if unsorted_items[j] < unsorted_items[j-1]:\n",
    "                    unsorted_items[j],unsorted_items[j-1] = unsorted_items[j-1], unsorted_items[j]\n",
    "                else:\n",
    "                    break  \n",
    "        return unsorted_items\n",
    "    \n",
    "    def _merge_sort(self, unsorted_items):\n",
    "        '''Divide the space, sort each half, merge the halfs while maintaining order.'''\n",
    "        length = len(unsorted_items)\n",
    "        mid = length // 2\n",
    "        left, right = unsorted_items[:mid], unsorted_items[mid:] \n",
    "        left = self(unsorted_items[:mid])\n",
    "        right = self(unsorted_items[mid:])\n",
    "        reversed_items = []\n",
    "        while left and right:\n",
    "            if left[-1] > right[-1]:\n",
    "                reversed_items.append(left.pop())\n",
    "            else:\n",
    "                reversed_items.append(right.pop())\n",
    "        reversed_items.reverse()\n",
    "        if left:\n",
    "            sorted_items = left + reversed_items\n",
    "        if right:\n",
    "            sorted_items = right + reversed_items\n",
    "        return sorted_items"
   ]
  },
  {
   "attachments": {},
   "cell_type": "markdown",
   "metadata": {},
   "source": [
    "Run the following code to create a test list to try and sort:"
   ]
  },
  {
   "cell_type": "code",
   "execution_count": 6,
   "metadata": {},
   "outputs": [
    {
     "name": "stdout",
     "output_type": "stream",
     "text": [
      "[45, 0, 34, 26, 42, 10, 41, 33, 36, 1, 44, 14, 32, 40, 39, 23, 46, 8, 15, 6, 18, 11, 13, 47, 21, 49, 2, 19, 12, 7, 3, 5, 4, 38, 24, 22, 25, 29, 27, 43, 30, 37, 48, 9, 35, 31, 17, 20, 28, 16]\n"
     ]
    }
   ],
   "source": [
    "from random import shuffle\n",
    "\n",
    "items = [n for n in range(50)]\n",
    "shuffle(items)\n",
    "print(items)"
   ]
  },
  {
   "attachments": {},
   "cell_type": "markdown",
   "metadata": {},
   "source": [
    "Run the following code to test the strategy class:"
   ]
  },
  {
   "cell_type": "code",
   "execution_count": 7,
   "metadata": {},
   "outputs": [
    {
     "name": "stdout",
     "output_type": "stream",
     "text": [
      "[0, 1, 2, 3, 4, 5, 6, 7, 8, 9, 10, 11, 12, 13, 14, 15, 16, 17, 18, 19, 20, 21, 22, 23, 24, 25, 26, 27, 28, 29, 30, 31, 32, 33, 34, 35, 36, 37, 38, 39, 40, 41, 42, 43, 44, 45, 46, 47, 48, 49]\n"
     ]
    }
   ],
   "source": [
    "sorter = SortingStrategy()\n",
    "sorted_items = sorter(items)\n",
    "print(sorted_items)"
   ]
  }
 ],
 "metadata": {
  "kernelspec": {
   "display_name": "Python 3",
   "language": "python",
   "name": "python3"
  },
  "language_info": {
   "codemirror_mode": {
    "name": "ipython",
    "version": 3
   },
   "file_extension": ".py",
   "mimetype": "text/x-python",
   "name": "python",
   "nbconvert_exporter": "python",
   "pygments_lexer": "ipython3",
   "version": "3.10.3"
  },
  "orig_nbformat": 4
 },
 "nbformat": 4,
 "nbformat_minor": 2
}
