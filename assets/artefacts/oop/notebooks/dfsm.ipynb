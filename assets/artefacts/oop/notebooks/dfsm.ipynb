{
 "cells": [
  {
   "attachments": {},
   "cell_type": "markdown",
   "metadata": {},
   "source": [
    "# Deterministic Finite State Machines (DFSM)"
   ]
  },
  {
   "attachments": {},
   "cell_type": "markdown",
   "metadata": {},
   "source": [
    "Run the following code block define the dfsm class:"
   ]
  },
  {
   "cell_type": "code",
   "execution_count": 14,
   "metadata": {},
   "outputs": [],
   "source": [
    "class DFSM(object):\n",
    "    def __init__(self, states, options, transitions, state_init, states_end):\n",
    "        self._states = states # {int}\n",
    "        self._options = options # {str}\n",
    "        self._transitions = transitions # {(int, str) : int}\n",
    "        self._state_init = state_init # int\n",
    "        self._states_end = states_end # {int}\n",
    "\n",
    "    def __repr__(self):\n",
    "        return (\"DFSM(\"\n",
    "            + f\"\\n\\tstates={self._states}, \"\n",
    "            + f\"\\n\\toptions={self._options}, \"\n",
    "            + f\"\\n\\ttransitions={self._transitions}, \"\n",
    "            + f\"\\n\\tintial_state={self._state_init}, \"\n",
    "            + f\"\\n\\tfinal_states={self._states_end}\"\n",
    "            + \"\\n)\"\n",
    "        )\n",
    "\n",
    "    def run(self, option_sequence, verbosity=False):\n",
    "        current_state = self._state_init\n",
    "        path = [str(current_state)]\n",
    "        for option in option_sequence:\n",
    "            current_state = self._transitions[(current_state, option)]\n",
    "            path.append(str(current_state))\n",
    "        if verbosity: print(f\"Path({''.join(path)})\")\n",
    "        return current_state"
   ]
  },
  {
   "attachments": {},
   "cell_type": "markdown",
   "metadata": {},
   "source": [
    "Run the next code block to create a model of a dice system:"
   ]
  },
  {
   "cell_type": "code",
   "execution_count": 19,
   "metadata": {},
   "outputs": [
    {
     "name": "stdout",
     "output_type": "stream",
     "text": [
      "DFSM(\n",
      "\tstates={1, 2, 3, 4, 5, 6}, \n",
      "\toptions={'L', 'U', 'D', 'R'}, \n",
      "\ttransitions={(1, 'U'): 3, (1, 'D'): 2, (1, 'L'): 4, (1, 'R'): 5, (2, 'U'): 1, (2, 'D'): 4, (2, 'L'): 3, (2, 'R'): 6, (3, 'U'): 6, (3, 'D'): 1, (3, 'L'): 5, (3, 'R'): 2, (4, 'U'): 2, (4, 'D'): 5, (4, 'L'): 6, (4, 'R'): 1, (5, 'U'): 4, (5, 'D'): 6, (5, 'L'): 1, (5, 'R'): 3, (6, 'U'): 5, (6, 'D'): 3, (6, 'L'): 2, (6, 'R'): 4}, \n",
      "\tintial_state=1, \n",
      "\tfinal_states={1, 2, 3, 4, 5, 6}\n",
      ")\n"
     ]
    }
   ],
   "source": [
    "states = {1, 2, 3, 4, 5, 6}\n",
    "options = {\"U\", \"D\", \"L\", \"R\"}\n",
    "transitions = {\n",
    "    (1,\"U\") : 3, (1,\"D\") : 2, (1,\"L\") : 4, (1,\"R\") : 5,\n",
    "    (2,\"U\") : 1, (2,\"D\") : 4, (2,\"L\") : 3, (2,\"R\") : 6,\n",
    "    (3,\"U\") : 6, (3,\"D\") : 1, (3,\"L\") : 5, (3,\"R\") : 2,\n",
    "    (4,\"U\") : 2, (4,\"D\") : 5, (4,\"L\") : 6, (4,\"R\") : 1,\n",
    "    (5,\"U\") : 4, (5,\"D\") : 6, (5,\"L\") : 1, (5,\"R\") : 3,\n",
    "    (6,\"U\") : 5, (6,\"D\") : 3, (6,\"L\") : 2, (6,\"R\") : 4,\n",
    "}\n",
    "state_init = 1\n",
    "states_end = {1, 2, 3, 4, 5, 6}\n",
    "\n",
    "dice_roll = DFSM(states, options, transitions, state_init, states_end)\n",
    "print(dice_roll)"
   ]
  },
  {
   "attachments": {},
   "cell_type": "markdown",
   "metadata": {},
   "source": [
    "Run the next block to define a class that generates a random option sequence:"
   ]
  },
  {
   "cell_type": "code",
   "execution_count": 20,
   "metadata": {},
   "outputs": [],
   "source": [
    "from random import choice\n",
    "\n",
    "class OptionSequence(list):\n",
    "    def __init__(self, options_sequence_list):\n",
    "        self.extend(options_sequence_list)\n",
    "    \n",
    "    def __repr__(self):\n",
    "        return f\"OptionSequence({''.join([option for option in self])})\"\n",
    "    \n",
    "    @classmethod\n",
    "    def generate(cls, options, sequence_len):\n",
    "        option_sequence_list = [choice(list(options)) for _ in range(sequence_len)]\n",
    "        return cls(option_sequence_list)"
   ]
  },
  {
   "attachments": {},
   "cell_type": "markdown",
   "metadata": {},
   "source": [
    "Run the next block to generate a random option sequence:"
   ]
  },
  {
   "cell_type": "code",
   "execution_count": 21,
   "metadata": {},
   "outputs": [
    {
     "name": "stdout",
     "output_type": "stream",
     "text": [
      "OptionSequence(LDURLDULDU)\n"
     ]
    }
   ],
   "source": [
    "option_sequence_len = 10\n",
    "option_sequence = OptionSequence.generate(options, 10)\n",
    "print(option_sequence)"
   ]
  },
  {
   "attachments": {},
   "cell_type": "markdown",
   "metadata": {},
   "source": [
    "Run the next block to simulate the dice roll:"
   ]
  },
  {
   "cell_type": "code",
   "execution_count": 22,
   "metadata": {},
   "outputs": [
    {
     "name": "stdout",
     "output_type": "stream",
     "text": [
      "Path(14541454636)\n",
      "Final State: 6\n"
     ]
    }
   ],
   "source": [
    "result = dice_roll.run(option_sequence, True)\n",
    "print(f\"Final State: {result}\")"
   ]
  },
  {
   "attachments": {},
   "cell_type": "markdown",
   "metadata": {},
   "source": [
    "Run the next block to define a class for testing purposes"
   ]
  },
  {
   "cell_type": "code",
   "execution_count": 32,
   "metadata": {},
   "outputs": [],
   "source": [
    "from collections import Counter\n",
    "from random import randint\n",
    "\n",
    "class Simulation(object):\n",
    "    def __init__(self, trial_system, option_sequences):\n",
    "        self._trial_system = trial_system\n",
    "        self._option_sequences = option_sequences\n",
    "\n",
    "    def run_trials(self):\n",
    "        results = []\n",
    "        for option_sequence in self._option_sequences:\n",
    "            results.append(self._trial_system.run(option_sequence, False))\n",
    "        \n",
    "        frequencies = Counter([str(result) for result in results])\n",
    "        print(f\"Result: {frequencies}\")\n",
    "    \n",
    "    @classmethod\n",
    "    def generate(cls, trial_system, num_trials, option_sequence_range):\n",
    "        option_sequences = []\n",
    "        for _ in range(num_trials):\n",
    "            option_sequence = OptionSequence.generate(options, randint(*option_sequence_range))\n",
    "            option_sequences.append(option_sequence)\n",
    "        return cls(trial_system, option_sequences)\n",
    "        \n"
   ]
  },
  {
   "attachments": {},
   "cell_type": "markdown",
   "metadata": {},
   "source": [
    "Run the next block to generate a simulation:"
   ]
  },
  {
   "cell_type": "code",
   "execution_count": 33,
   "metadata": {},
   "outputs": [],
   "source": [
    "num_trials = 1000\n",
    "option_sequence_range = (5, 25)\n",
    "\n",
    "simulation = Simulation.generate(dice_roll, num_trials, option_sequence_range)"
   ]
  },
  {
   "attachments": {},
   "cell_type": "markdown",
   "metadata": {},
   "source": [
    "Run the next block to get the results of the test:"
   ]
  },
  {
   "cell_type": "code",
   "execution_count": 34,
   "metadata": {},
   "outputs": [
    {
     "name": "stdout",
     "output_type": "stream",
     "text": [
      "Result: Counter({'1': 177, '5': 169, '4': 169, '6': 164, '2': 162, '3': 159})\n"
     ]
    }
   ],
   "source": [
    "simulation.run_trials()"
   ]
  }
 ],
 "metadata": {
  "kernelspec": {
   "display_name": "Python 3",
   "language": "python",
   "name": "python3"
  },
  "language_info": {
   "codemirror_mode": {
    "name": "ipython",
    "version": 3
   },
   "file_extension": ".py",
   "mimetype": "text/x-python",
   "name": "python",
   "nbconvert_exporter": "python",
   "pygments_lexer": "ipython3",
   "version": "3.10.3"
  },
  "orig_nbformat": 4
 },
 "nbformat": 4,
 "nbformat_minor": 2
}
