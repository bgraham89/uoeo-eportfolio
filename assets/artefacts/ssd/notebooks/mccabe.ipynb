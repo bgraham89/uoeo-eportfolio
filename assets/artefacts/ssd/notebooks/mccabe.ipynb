{
 "cells": [
  {
   "attachments": {},
   "cell_type": "markdown",
   "metadata": {},
   "source": [
    "# Cyclomatic Complexity"
   ]
  },
  {
   "attachments": {},
   "cell_type": "markdown",
   "metadata": {},
   "source": [
    "Run the following code to import from the mccabe module. This module is an external module that can be installed using ```pip install radon```"
   ]
  },
  {
   "cell_type": "code",
   "execution_count": 2,
   "metadata": {},
   "outputs": [],
   "source": [
    "from radon.complexity import cc_visit"
   ]
  },
  {
   "attachments": {},
   "cell_type": "markdown",
   "metadata": {},
   "source": [
    "Run the following code to define a function that we can measure the cyclomatic complexity of:"
   ]
  },
  {
   "cell_type": "code",
   "execution_count": 3,
   "metadata": {},
   "outputs": [],
   "source": [
    "\n",
    "code = '''\n",
    "def test(n):\n",
    "    p = 2\n",
    "    primes = []\n",
    "    while True:\n",
    "        if all((p % q for q in primes)):\n",
    "            primes.append(p)\n",
    "        else:\n",
    "            p += 1\n",
    "        if len(primes) == n:\n",
    "            return primes\n",
    "'''"
   ]
  },
  {
   "attachments": {},
   "cell_type": "markdown",
   "metadata": {},
   "source": [
    "Run the following code to get the cyclomatic complexity of the function above:"
   ]
  },
  {
   "cell_type": "code",
   "execution_count": 7,
   "metadata": {},
   "outputs": [
    {
     "name": "stdout",
     "output_type": "stream",
     "text": [
      "The Cyclomatic complexity is 5\n"
     ]
    }
   ],
   "source": [
    "print(f\"The cyclomatic complexity of the code is {cc_visit(code)[0].complexity}\")"
   ]
  }
 ],
 "metadata": {
  "kernelspec": {
   "display_name": "Python 3",
   "language": "python",
   "name": "python3"
  },
  "language_info": {
   "codemirror_mode": {
    "name": "ipython",
    "version": 3
   },
   "file_extension": ".py",
   "mimetype": "text/x-python",
   "name": "python",
   "nbconvert_exporter": "python",
   "pygments_lexer": "ipython3",
   "version": "3.10.3"
  },
  "orig_nbformat": 4
 },
 "nbformat": 4,
 "nbformat_minor": 2
}
