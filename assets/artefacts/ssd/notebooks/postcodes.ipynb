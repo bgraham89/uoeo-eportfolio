{
 "cells": [
  {
   "attachments": {},
   "cell_type": "markdown",
   "metadata": {},
   "source": [
    "# Postcodes"
   ]
  },
  {
   "attachments": {},
   "cell_type": "markdown",
   "metadata": {},
   "source": [
    "Run the following create a regex pattern for matching postcodes with:"
   ]
  },
  {
   "cell_type": "code",
   "execution_count": 14,
   "metadata": {},
   "outputs": [],
   "source": [
    "import re\n",
    "\n",
    "postcode_regex = re.compile(r'([A-Z]{1,2}(([0-9]{2})|[0-9]{1}[A-Z]?) [0-9]{1}[A-Z]{2})')\n",
    "        "
   ]
  },
  {
   "attachments": {},
   "cell_type": "markdown",
   "metadata": {},
   "source": [
    "Run the following code to create test postcodes:"
   ]
  },
  {
   "cell_type": "code",
   "execution_count": 23,
   "metadata": {},
   "outputs": [],
   "source": [
    "test_postcodes = [\n",
    "    'M1 1AA',\n",
    "    'M60 1NW',\n",
    "    'CR2 6XH',\n",
    "    'DN55 1PT',\n",
    "    'W1A 1HQ',\n",
    "    'EC1A 1BB',\n",
    "    'WR0 NG1'\n",
    "]"
   ]
  },
  {
   "attachments": {},
   "cell_type": "markdown",
   "metadata": {},
   "source": [
    "Run the following code to test the postcodes:"
   ]
  },
  {
   "cell_type": "code",
   "execution_count": 24,
   "metadata": {},
   "outputs": [
    {
     "name": "stdout",
     "output_type": "stream",
     "text": [
      "M1 1AA True\n",
      "M60 1NW True\n",
      "CR2 6XH True\n",
      "DN55 1PT True\n",
      "W1A 1HQ True\n",
      "EC1A 1BB True\n",
      "WR0 NG1 False\n"
     ]
    }
   ],
   "source": [
    "for postcode in test_postcodes:\n",
    "    print(postcode, bool(re.fullmatch(postcode_regex, postcode)))"
   ]
  }
 ],
 "metadata": {
  "kernelspec": {
   "display_name": "Python 3",
   "language": "python",
   "name": "python3"
  },
  "language_info": {
   "codemirror_mode": {
    "name": "ipython",
    "version": 3
   },
   "file_extension": ".py",
   "mimetype": "text/x-python",
   "name": "python",
   "nbconvert_exporter": "python",
   "pygments_lexer": "ipython3",
   "version": "3.10.3"
  },
  "orig_nbformat": 4
 },
 "nbformat": 4,
 "nbformat_minor": 2
}
