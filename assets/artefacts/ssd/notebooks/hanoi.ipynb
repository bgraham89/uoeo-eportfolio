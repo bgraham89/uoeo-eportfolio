{
 "cells": [
  {
   "attachments": {},
   "cell_type": "markdown",
   "metadata": {},
   "source": [
    "# Tower of Hanoi"
   ]
  },
  {
   "attachments": {},
   "cell_type": "markdown",
   "metadata": {},
   "source": [
    "Run the following code to define a class encapsulating a recursive algorithm to solve the Tower of Hanoi problem:"
   ]
  },
  {
   "cell_type": "code",
   "execution_count": 7,
   "metadata": {},
   "outputs": [],
   "source": [
    "class Hanoi(object):\n",
    "    def __init__(self):\n",
    "        self.towers = [[], [], []]\n",
    "\n",
    "    def __repr__(self):\n",
    "        return f\"{self.towers[0]}\\n{self.towers[1]}\\n{self.towers[2]}\\n\"\n",
    "\n",
    "    def __call__(self, n):\n",
    "        for i in range(n, 0, -1):\n",
    "            self.towers[0].append(i)\n",
    "        print(self)\n",
    "        self.move(n, 0, 2, 1)\n",
    "\n",
    "    def move(self, n, source, target, auxiliary):\n",
    "        if n > 0:\n",
    "            self.move(n - 1, source, auxiliary, target)\n",
    "            self.towers[target].append(self.towers[source].pop())\n",
    "            print(self)\n",
    "            self.move(n - 1, auxiliary, target, source)\n",
    "        "
   ]
  },
  {
   "attachments": {},
   "cell_type": "markdown",
   "metadata": {},
   "source": [
    "Run the following code to test the algorithm:"
   ]
  },
  {
   "cell_type": "code",
   "execution_count": 18,
   "metadata": {},
   "outputs": [
    {
     "name": "stdout",
     "output_type": "stream",
     "text": [
      "[2, 1]\n",
      "[]\n",
      "[]\n",
      "\n",
      "[2]\n",
      "[1]\n",
      "[]\n",
      "\n",
      "[]\n",
      "[1]\n",
      "[2]\n",
      "\n",
      "[]\n",
      "[]\n",
      "[2, 1]\n",
      "\n"
     ]
    }
   ],
   "source": [
    "hanoi = Hanoi()\n",
    "hanoi(2)"
   ]
  },
  {
   "attachments": {},
   "cell_type": "markdown",
   "metadata": {},
   "source": [
    "Run the following code view the current recursion depth limit:"
   ]
  },
  {
   "cell_type": "code",
   "execution_count": 19,
   "metadata": {},
   "outputs": [
    {
     "data": {
      "text/plain": [
       "3000"
      ]
     },
     "execution_count": 19,
     "metadata": {},
     "output_type": "execute_result"
    }
   ],
   "source": [
    "import sys\n",
    "\n",
    "sys.getrecursionlimit()"
   ]
  }
 ],
 "metadata": {
  "kernelspec": {
   "display_name": "Python 3",
   "language": "python",
   "name": "python3"
  },
  "language_info": {
   "codemirror_mode": {
    "name": "ipython",
    "version": 3
   },
   "file_extension": ".py",
   "mimetype": "text/x-python",
   "name": "python",
   "nbconvert_exporter": "python",
   "pygments_lexer": "ipython3",
   "version": "3.10.3"
  },
  "orig_nbformat": 4
 },
 "nbformat": 4,
 "nbformat_minor": 2
}
